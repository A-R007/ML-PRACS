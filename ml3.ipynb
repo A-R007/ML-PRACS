import pandas as pd
from sklearn.model_selection import train_test_split
from sklearn.feature_extraction.text import CountVectorizer
from sklearn.naive_bayes import MultinomialNB
from sklearn.metrics import classification_report, accuracy_score

data = {
    'text': [
        'Congratulations! You have won a lottery of $1,000,000.',
        'Dear friend, I would like to discuss a business proposal.',
        'Click here to claim your free prize now!',
        'Meeting scheduled for tomorrow at 10 AM.',
        'Get rich quick with this investment opportunity!',
        'Don’t forget to send the report by the end of the day.',
        'You have received a new message from your bank.',
        'This is a reminder for your appointment next week.',
        'You are selected for a free trial membership!',
        'Your account has been suspended, please verify your identity.',
        'Special promotion: Buy one, get one free!',
        'Your friend sent you a message.',
        'Urgent: Update your billing information.',
        'Don’t miss out on this exclusive offer!',
        'Hello, can we schedule a meeting next week?'
    ],
    'label': [
        'spam', 'not spam', 'spam', 'not spam',
        'spam', 'not spam', 'not spam', 'not spam',
        'spam', 'spam', 'spam', 'not spam',
        'spam', 'not spam', 'not spam'
    ]
}

df = pd.DataFrame(data)

X = df['text']
y = df['label']

vectorizer = CountVectorizer()
X_vectorized = vectorizer.fit_transform(X)

X_train, X_test, y_train, y_test = train_test_split(X_vectorized, y, test_size=0.2, random_state=42, stratify=y)

model = MultinomialNB()
model.fit(X_train, y_train)

y_pred = model.predict(X_test)

print(classification_report(y_test, y_pred, zero_division=0))
print(f'Accuracy: {accuracy_score(y_test, y_pred)}')

def classify_email(email):
    email_vectorized = vectorizer.transform([email])
    prediction = model.predict(email_vectorized)
    return prediction[0]

user_input = input("Mail to classify using Naive Bayes(spam_or_not_spam):")
result = classify_email(user_input)
print(f"The email is classified as: {result}")
